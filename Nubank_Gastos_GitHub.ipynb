{
  "nbformat": 4,
  "nbformat_minor": 0,
  "metadata": {
    "colab": {
      "name": "Nubank_Gastos_GitHub.ipynb",
      "provenance": [],
      "collapsed_sections": [],
      "toc_visible": true
    },
    "kernelspec": {
      "name": "python3",
      "display_name": "Python 3"
    }
  },
  "cells": [
    {
      "cell_type": "code",
      "metadata": {
        "id": "RL5rss0iESo7"
      },
      "source": [
        "#This script is for analyzing credit card expenses.\n",
        "#Import the library\n",
        "import pandas as pd\n",
        "import glob\n",
        "import matplotlib.pyplot as plt\n",
        "from datetime import datetime as dt\n",
        "import plotly.offline as py\n",
        "import plotly.graph_objects as go"
      ],
      "execution_count": 1,
      "outputs": []
    },
    {
      "cell_type": "code",
      "metadata": {
        "id": "57uwYkO1Ikp8",
        "colab": {
          "base_uri": "https://localhost:8080/",
          "height": 419
        },
        "outputId": "ba97cd9b-48b1-4aa7-ab39-44f496db7cf9"
      },
      "source": [
        "#Concatenate the files\n",
        "path = r'/content/drive/MyDrive/Nubank' # use your path\n",
        "all_files = glob.glob(path + \"/*.csv\")\n",
        "\n",
        "li = []\n",
        "\n",
        "for filename in all_files:\n",
        "    df = pd.read_csv(filename, index_col=None, header=0)\n",
        "    li.append(df)\n",
        "\n",
        "nubank = pd.concat(li, axis=0, ignore_index=True)\n",
        "nubank"
      ],
      "execution_count": 2,
      "outputs": [
        {
          "output_type": "execute_result",
          "data": {
            "text/html": [
              "<div>\n",
              "<style scoped>\n",
              "    .dataframe tbody tr th:only-of-type {\n",
              "        vertical-align: middle;\n",
              "    }\n",
              "\n",
              "    .dataframe tbody tr th {\n",
              "        vertical-align: top;\n",
              "    }\n",
              "\n",
              "    .dataframe thead th {\n",
              "        text-align: right;\n",
              "    }\n",
              "</style>\n",
              "<table border=\"1\" class=\"dataframe\">\n",
              "  <thead>\n",
              "    <tr style=\"text-align: right;\">\n",
              "      <th></th>\n",
              "      <th>date</th>\n",
              "      <th>category</th>\n",
              "      <th>title</th>\n",
              "      <th>amount</th>\n",
              "    </tr>\n",
              "  </thead>\n",
              "  <tbody>\n",
              "    <tr>\n",
              "      <th>0</th>\n",
              "      <td>2016-08-05</td>\n",
              "      <td>restaurante</td>\n",
              "      <td>Gaúcha Sport Bar</td>\n",
              "      <td>45.32</td>\n",
              "    </tr>\n",
              "    <tr>\n",
              "      <th>1</th>\n",
              "      <td>2016-08-10</td>\n",
              "      <td>NaN</td>\n",
              "      <td>Pagamento recebido</td>\n",
              "      <td>-224.90</td>\n",
              "    </tr>\n",
              "    <tr>\n",
              "      <th>2</th>\n",
              "      <td>2016-08-11</td>\n",
              "      <td>supermercado</td>\n",
              "      <td>Casa de Carnes Moretti</td>\n",
              "      <td>66.90</td>\n",
              "    </tr>\n",
              "    <tr>\n",
              "      <th>3</th>\n",
              "      <td>2016-08-15</td>\n",
              "      <td>educação</td>\n",
              "      <td>Papelaria Cameron</td>\n",
              "      <td>24.90</td>\n",
              "    </tr>\n",
              "    <tr>\n",
              "      <th>4</th>\n",
              "      <td>2016-08-15</td>\n",
              "      <td>vestuário</td>\n",
              "      <td>Sirlene Provenci</td>\n",
              "      <td>24.90</td>\n",
              "    </tr>\n",
              "    <tr>\n",
              "      <th>...</th>\n",
              "      <td>...</td>\n",
              "      <td>...</td>\n",
              "      <td>...</td>\n",
              "      <td>...</td>\n",
              "    </tr>\n",
              "    <tr>\n",
              "      <th>1291</th>\n",
              "      <td>2020-02-21</td>\n",
              "      <td>transporte</td>\n",
              "      <td>Uberbr Uber Trip Help.</td>\n",
              "      <td>7.82</td>\n",
              "    </tr>\n",
              "    <tr>\n",
              "      <th>1292</th>\n",
              "      <td>2020-02-29</td>\n",
              "      <td>lazer</td>\n",
              "      <td>Mcm Cachoeirinha</td>\n",
              "      <td>4.00</td>\n",
              "    </tr>\n",
              "    <tr>\n",
              "      <th>1293</th>\n",
              "      <td>2020-02-29</td>\n",
              "      <td>serviços</td>\n",
              "      <td>Ebanx*Spotify</td>\n",
              "      <td>26.90</td>\n",
              "    </tr>\n",
              "    <tr>\n",
              "      <th>1294</th>\n",
              "      <td>2020-02-29</td>\n",
              "      <td>supermercado</td>\n",
              "      <td>Pag*Mcmbar</td>\n",
              "      <td>12.00</td>\n",
              "    </tr>\n",
              "    <tr>\n",
              "      <th>1295</th>\n",
              "      <td>2020-02-29</td>\n",
              "      <td>supermercado</td>\n",
              "      <td>Pag*Mcmbar</td>\n",
              "      <td>35.00</td>\n",
              "    </tr>\n",
              "  </tbody>\n",
              "</table>\n",
              "<p>1296 rows × 4 columns</p>\n",
              "</div>"
            ],
            "text/plain": [
              "            date      category                   title  amount\n",
              "0     2016-08-05   restaurante        Gaúcha Sport Bar   45.32\n",
              "1     2016-08-10           NaN      Pagamento recebido -224.90\n",
              "2     2016-08-11  supermercado  Casa de Carnes Moretti   66.90\n",
              "3     2016-08-15      educação       Papelaria Cameron   24.90\n",
              "4     2016-08-15     vestuário        Sirlene Provenci   24.90\n",
              "...          ...           ...                     ...     ...\n",
              "1291  2020-02-21    transporte  Uberbr Uber Trip Help.    7.82\n",
              "1292  2020-02-29         lazer        Mcm Cachoeirinha    4.00\n",
              "1293  2020-02-29      serviços           Ebanx*Spotify   26.90\n",
              "1294  2020-02-29  supermercado              Pag*Mcmbar   12.00\n",
              "1295  2020-02-29  supermercado              Pag*Mcmbar   35.00\n",
              "\n",
              "[1296 rows x 4 columns]"
            ]
          },
          "metadata": {
            "tags": []
          },
          "execution_count": 2
        }
      ]
    },
    {
      "cell_type": "code",
      "metadata": {
        "id": "cpFoCZdfEgTz",
        "colab": {
          "base_uri": "https://localhost:8080/",
          "height": 419
        },
        "outputId": "ee278eb9-d8cc-4c07-c7b2-5d6d776263a3"
      },
      "source": [
        "#Eliminate NaN\n",
        "nubank.dropna(inplace=True)\n",
        "nubank"
      ],
      "execution_count": 3,
      "outputs": [
        {
          "output_type": "execute_result",
          "data": {
            "text/html": [
              "<div>\n",
              "<style scoped>\n",
              "    .dataframe tbody tr th:only-of-type {\n",
              "        vertical-align: middle;\n",
              "    }\n",
              "\n",
              "    .dataframe tbody tr th {\n",
              "        vertical-align: top;\n",
              "    }\n",
              "\n",
              "    .dataframe thead th {\n",
              "        text-align: right;\n",
              "    }\n",
              "</style>\n",
              "<table border=\"1\" class=\"dataframe\">\n",
              "  <thead>\n",
              "    <tr style=\"text-align: right;\">\n",
              "      <th></th>\n",
              "      <th>date</th>\n",
              "      <th>category</th>\n",
              "      <th>title</th>\n",
              "      <th>amount</th>\n",
              "    </tr>\n",
              "  </thead>\n",
              "  <tbody>\n",
              "    <tr>\n",
              "      <th>0</th>\n",
              "      <td>2016-08-05</td>\n",
              "      <td>restaurante</td>\n",
              "      <td>Gaúcha Sport Bar</td>\n",
              "      <td>45.32</td>\n",
              "    </tr>\n",
              "    <tr>\n",
              "      <th>2</th>\n",
              "      <td>2016-08-11</td>\n",
              "      <td>supermercado</td>\n",
              "      <td>Casa de Carnes Moretti</td>\n",
              "      <td>66.90</td>\n",
              "    </tr>\n",
              "    <tr>\n",
              "      <th>3</th>\n",
              "      <td>2016-08-15</td>\n",
              "      <td>educação</td>\n",
              "      <td>Papelaria Cameron</td>\n",
              "      <td>24.90</td>\n",
              "    </tr>\n",
              "    <tr>\n",
              "      <th>4</th>\n",
              "      <td>2016-08-15</td>\n",
              "      <td>vestuário</td>\n",
              "      <td>Sirlene Provenci</td>\n",
              "      <td>24.90</td>\n",
              "    </tr>\n",
              "    <tr>\n",
              "      <th>5</th>\n",
              "      <td>2016-08-15</td>\n",
              "      <td>supermercado</td>\n",
              "      <td>Supermercado Bonato</td>\n",
              "      <td>26.44</td>\n",
              "    </tr>\n",
              "    <tr>\n",
              "      <th>...</th>\n",
              "      <td>...</td>\n",
              "      <td>...</td>\n",
              "      <td>...</td>\n",
              "      <td>...</td>\n",
              "    </tr>\n",
              "    <tr>\n",
              "      <th>1291</th>\n",
              "      <td>2020-02-21</td>\n",
              "      <td>transporte</td>\n",
              "      <td>Uberbr Uber Trip Help.</td>\n",
              "      <td>7.82</td>\n",
              "    </tr>\n",
              "    <tr>\n",
              "      <th>1292</th>\n",
              "      <td>2020-02-29</td>\n",
              "      <td>lazer</td>\n",
              "      <td>Mcm Cachoeirinha</td>\n",
              "      <td>4.00</td>\n",
              "    </tr>\n",
              "    <tr>\n",
              "      <th>1293</th>\n",
              "      <td>2020-02-29</td>\n",
              "      <td>serviços</td>\n",
              "      <td>Ebanx*Spotify</td>\n",
              "      <td>26.90</td>\n",
              "    </tr>\n",
              "    <tr>\n",
              "      <th>1294</th>\n",
              "      <td>2020-02-29</td>\n",
              "      <td>supermercado</td>\n",
              "      <td>Pag*Mcmbar</td>\n",
              "      <td>12.00</td>\n",
              "    </tr>\n",
              "    <tr>\n",
              "      <th>1295</th>\n",
              "      <td>2020-02-29</td>\n",
              "      <td>supermercado</td>\n",
              "      <td>Pag*Mcmbar</td>\n",
              "      <td>35.00</td>\n",
              "    </tr>\n",
              "  </tbody>\n",
              "</table>\n",
              "<p>1236 rows × 4 columns</p>\n",
              "</div>"
            ],
            "text/plain": [
              "            date      category                   title  amount\n",
              "0     2016-08-05   restaurante        Gaúcha Sport Bar   45.32\n",
              "2     2016-08-11  supermercado  Casa de Carnes Moretti   66.90\n",
              "3     2016-08-15      educação       Papelaria Cameron   24.90\n",
              "4     2016-08-15     vestuário        Sirlene Provenci   24.90\n",
              "5     2016-08-15  supermercado     Supermercado Bonato   26.44\n",
              "...          ...           ...                     ...     ...\n",
              "1291  2020-02-21    transporte  Uberbr Uber Trip Help.    7.82\n",
              "1292  2020-02-29         lazer        Mcm Cachoeirinha    4.00\n",
              "1293  2020-02-29      serviços           Ebanx*Spotify   26.90\n",
              "1294  2020-02-29  supermercado              Pag*Mcmbar   12.00\n",
              "1295  2020-02-29  supermercado              Pag*Mcmbar   35.00\n",
              "\n",
              "[1236 rows x 4 columns]"
            ]
          },
          "metadata": {
            "tags": []
          },
          "execution_count": 3
        }
      ]
    },
    {
      "cell_type": "code",
      "metadata": {
        "id": "y3gJuLjkP8-B",
        "colab": {
          "base_uri": "https://localhost:8080/"
        },
        "outputId": "afc287cf-e1ca-4b36-94bb-72d3d6c57547"
      },
      "source": [
        "#Transform date in datetime\n",
        "nubank['date'] = pd.to_datetime(nubank['date']) \n",
        "nubank.info()"
      ],
      "execution_count": 4,
      "outputs": [
        {
          "output_type": "stream",
          "text": [
            "<class 'pandas.core.frame.DataFrame'>\n",
            "Int64Index: 1236 entries, 0 to 1295\n",
            "Data columns (total 4 columns):\n",
            " #   Column    Non-Null Count  Dtype         \n",
            "---  ------    --------------  -----         \n",
            " 0   date      1236 non-null   datetime64[ns]\n",
            " 1   category  1236 non-null   object        \n",
            " 2   title     1236 non-null   object        \n",
            " 3   amount    1236 non-null   float64       \n",
            "dtypes: datetime64[ns](1), float64(1), object(2)\n",
            "memory usage: 48.3+ KB\n"
          ],
          "name": "stdout"
        }
      ]
    },
    {
      "cell_type": "code",
      "metadata": {
        "colab": {
          "base_uri": "https://localhost:8080/",
          "height": 452
        },
        "id": "EY8MlwEaS6eD",
        "outputId": "6d8dbde2-bd4f-4746-f4a6-6ac72199562f"
      },
      "source": [
        "#Sum by category\n",
        "gastos = nubank.groupby('category').sum()\n",
        "gastos.head(50)"
      ],
      "execution_count": 5,
      "outputs": [
        {
          "output_type": "execute_result",
          "data": {
            "text/html": [
              "<div>\n",
              "<style scoped>\n",
              "    .dataframe tbody tr th:only-of-type {\n",
              "        vertical-align: middle;\n",
              "    }\n",
              "\n",
              "    .dataframe tbody tr th {\n",
              "        vertical-align: top;\n",
              "    }\n",
              "\n",
              "    .dataframe thead th {\n",
              "        text-align: right;\n",
              "    }\n",
              "</style>\n",
              "<table border=\"1\" class=\"dataframe\">\n",
              "  <thead>\n",
              "    <tr style=\"text-align: right;\">\n",
              "      <th></th>\n",
              "      <th>amount</th>\n",
              "    </tr>\n",
              "    <tr>\n",
              "      <th>category</th>\n",
              "      <th></th>\n",
              "    </tr>\n",
              "  </thead>\n",
              "  <tbody>\n",
              "    <tr>\n",
              "      <th>casa</th>\n",
              "      <td>96.48</td>\n",
              "    </tr>\n",
              "    <tr>\n",
              "      <th>educação</th>\n",
              "      <td>1607.63</td>\n",
              "    </tr>\n",
              "    <tr>\n",
              "      <th>eletrônicos</th>\n",
              "      <td>1169.69</td>\n",
              "    </tr>\n",
              "    <tr>\n",
              "      <th>lazer</th>\n",
              "      <td>2696.60</td>\n",
              "    </tr>\n",
              "    <tr>\n",
              "      <th>outros</th>\n",
              "      <td>2061.90</td>\n",
              "    </tr>\n",
              "    <tr>\n",
              "      <th>restaurante</th>\n",
              "      <td>12051.04</td>\n",
              "    </tr>\n",
              "    <tr>\n",
              "      <th>saúde</th>\n",
              "      <td>1231.42</td>\n",
              "    </tr>\n",
              "    <tr>\n",
              "      <th>serviços</th>\n",
              "      <td>2788.67</td>\n",
              "    </tr>\n",
              "    <tr>\n",
              "      <th>supermercado</th>\n",
              "      <td>4662.29</td>\n",
              "    </tr>\n",
              "    <tr>\n",
              "      <th>transporte</th>\n",
              "      <td>9784.83</td>\n",
              "    </tr>\n",
              "    <tr>\n",
              "      <th>vestuário</th>\n",
              "      <td>4331.26</td>\n",
              "    </tr>\n",
              "    <tr>\n",
              "      <th>viagem</th>\n",
              "      <td>661.16</td>\n",
              "    </tr>\n",
              "  </tbody>\n",
              "</table>\n",
              "</div>"
            ],
            "text/plain": [
              "                amount\n",
              "category              \n",
              "casa             96.48\n",
              "educação       1607.63\n",
              "eletrônicos    1169.69\n",
              "lazer          2696.60\n",
              "outros         2061.90\n",
              "restaurante   12051.04\n",
              "saúde          1231.42\n",
              "serviços       2788.67\n",
              "supermercado   4662.29\n",
              "transporte     9784.83\n",
              "vestuário      4331.26\n",
              "viagem          661.16"
            ]
          },
          "metadata": {
            "tags": []
          },
          "execution_count": 5
        }
      ]
    },
    {
      "cell_type": "code",
      "metadata": {
        "id": "Vq4SR8f6mfcm",
        "colab": {
          "base_uri": "https://localhost:8080/"
        },
        "outputId": "6f629903-eab0-47d3-d175-8a2e03b2f80b"
      },
      "source": [
        "#Create a variable with the sum total\n",
        "gastos = nubank['amount'].sum()\n",
        "print(gastos)"
      ],
      "execution_count": 6,
      "outputs": [
        {
          "output_type": "stream",
          "text": [
            "43142.97\n"
          ],
          "name": "stdout"
        }
      ]
    },
    {
      "cell_type": "code",
      "metadata": {
        "colab": {
          "base_uri": "https://localhost:8080/",
          "height": 235
        },
        "id": "1lpGf_OtmqqV",
        "outputId": "a9451a2e-d470-4689-f914-38b62e5e0ebb"
      },
      "source": [
        "#Sum by category\n",
        "nubank = nubank.groupby('category').sum()\n",
        "nubank.head()\n"
      ],
      "execution_count": 7,
      "outputs": [
        {
          "output_type": "execute_result",
          "data": {
            "text/html": [
              "<div>\n",
              "<style scoped>\n",
              "    .dataframe tbody tr th:only-of-type {\n",
              "        vertical-align: middle;\n",
              "    }\n",
              "\n",
              "    .dataframe tbody tr th {\n",
              "        vertical-align: top;\n",
              "    }\n",
              "\n",
              "    .dataframe thead th {\n",
              "        text-align: right;\n",
              "    }\n",
              "</style>\n",
              "<table border=\"1\" class=\"dataframe\">\n",
              "  <thead>\n",
              "    <tr style=\"text-align: right;\">\n",
              "      <th></th>\n",
              "      <th>amount</th>\n",
              "    </tr>\n",
              "    <tr>\n",
              "      <th>category</th>\n",
              "      <th></th>\n",
              "    </tr>\n",
              "  </thead>\n",
              "  <tbody>\n",
              "    <tr>\n",
              "      <th>casa</th>\n",
              "      <td>96.48</td>\n",
              "    </tr>\n",
              "    <tr>\n",
              "      <th>educação</th>\n",
              "      <td>1607.63</td>\n",
              "    </tr>\n",
              "    <tr>\n",
              "      <th>eletrônicos</th>\n",
              "      <td>1169.69</td>\n",
              "    </tr>\n",
              "    <tr>\n",
              "      <th>lazer</th>\n",
              "      <td>2696.60</td>\n",
              "    </tr>\n",
              "    <tr>\n",
              "      <th>outros</th>\n",
              "      <td>2061.90</td>\n",
              "    </tr>\n",
              "  </tbody>\n",
              "</table>\n",
              "</div>"
            ],
            "text/plain": [
              "              amount\n",
              "category            \n",
              "casa           96.48\n",
              "educação     1607.63\n",
              "eletrônicos  1169.69\n",
              "lazer        2696.60\n",
              "outros       2061.90"
            ]
          },
          "metadata": {
            "tags": []
          },
          "execution_count": 7
        }
      ]
    },
    {
      "cell_type": "code",
      "metadata": {
        "colab": {
          "base_uri": "https://localhost:8080/",
          "height": 452
        },
        "id": "IX9NMzv0r_5g",
        "outputId": "bf723b21-4f42-4115-e66c-9a5d8fd9fe3e"
      },
      "source": [
        "#Create a column call porcetagem\n",
        "nubank['porcentagem'] = nubank['amount'].div(gastos)*100\n",
        "nubank.head(50)"
      ],
      "execution_count": 8,
      "outputs": [
        {
          "output_type": "execute_result",
          "data": {
            "text/html": [
              "<div>\n",
              "<style scoped>\n",
              "    .dataframe tbody tr th:only-of-type {\n",
              "        vertical-align: middle;\n",
              "    }\n",
              "\n",
              "    .dataframe tbody tr th {\n",
              "        vertical-align: top;\n",
              "    }\n",
              "\n",
              "    .dataframe thead th {\n",
              "        text-align: right;\n",
              "    }\n",
              "</style>\n",
              "<table border=\"1\" class=\"dataframe\">\n",
              "  <thead>\n",
              "    <tr style=\"text-align: right;\">\n",
              "      <th></th>\n",
              "      <th>amount</th>\n",
              "      <th>porcentagem</th>\n",
              "    </tr>\n",
              "    <tr>\n",
              "      <th>category</th>\n",
              "      <th></th>\n",
              "      <th></th>\n",
              "    </tr>\n",
              "  </thead>\n",
              "  <tbody>\n",
              "    <tr>\n",
              "      <th>casa</th>\n",
              "      <td>96.48</td>\n",
              "      <td>0.223629</td>\n",
              "    </tr>\n",
              "    <tr>\n",
              "      <th>educação</th>\n",
              "      <td>1607.63</td>\n",
              "      <td>3.726285</td>\n",
              "    </tr>\n",
              "    <tr>\n",
              "      <th>eletrônicos</th>\n",
              "      <td>1169.69</td>\n",
              "      <td>2.711195</td>\n",
              "    </tr>\n",
              "    <tr>\n",
              "      <th>lazer</th>\n",
              "      <td>2696.60</td>\n",
              "      <td>6.250381</td>\n",
              "    </tr>\n",
              "    <tr>\n",
              "      <th>outros</th>\n",
              "      <td>2061.90</td>\n",
              "      <td>4.779226</td>\n",
              "    </tr>\n",
              "    <tr>\n",
              "      <th>restaurante</th>\n",
              "      <td>12051.04</td>\n",
              "      <td>27.932801</td>\n",
              "    </tr>\n",
              "    <tr>\n",
              "      <th>saúde</th>\n",
              "      <td>1231.42</td>\n",
              "      <td>2.854277</td>\n",
              "    </tr>\n",
              "    <tr>\n",
              "      <th>serviços</th>\n",
              "      <td>2788.67</td>\n",
              "      <td>6.463788</td>\n",
              "    </tr>\n",
              "    <tr>\n",
              "      <th>supermercado</th>\n",
              "      <td>4662.29</td>\n",
              "      <td>10.806604</td>\n",
              "    </tr>\n",
              "    <tr>\n",
              "      <th>transporte</th>\n",
              "      <td>9784.83</td>\n",
              "      <td>22.680010</td>\n",
              "    </tr>\n",
              "    <tr>\n",
              "      <th>vestuário</th>\n",
              "      <td>4331.26</td>\n",
              "      <td>10.039318</td>\n",
              "    </tr>\n",
              "    <tr>\n",
              "      <th>viagem</th>\n",
              "      <td>661.16</td>\n",
              "      <td>1.532486</td>\n",
              "    </tr>\n",
              "  </tbody>\n",
              "</table>\n",
              "</div>"
            ],
            "text/plain": [
              "                amount  porcentagem\n",
              "category                           \n",
              "casa             96.48     0.223629\n",
              "educação       1607.63     3.726285\n",
              "eletrônicos    1169.69     2.711195\n",
              "lazer          2696.60     6.250381\n",
              "outros         2061.90     4.779226\n",
              "restaurante   12051.04    27.932801\n",
              "saúde          1231.42     2.854277\n",
              "serviços       2788.67     6.463788\n",
              "supermercado   4662.29    10.806604\n",
              "transporte     9784.83    22.680010\n",
              "vestuário      4331.26    10.039318\n",
              "viagem          661.16     1.532486"
            ]
          },
          "metadata": {
            "tags": []
          },
          "execution_count": 8
        }
      ]
    },
    {
      "cell_type": "code",
      "metadata": {
        "colab": {
          "base_uri": "https://localhost:8080/"
        },
        "id": "bFhGdPcrnMx5",
        "outputId": "434a7854-7149-458a-874b-8d17c599ade1"
      },
      "source": [
        "#create a list of colors and a variable call valor\n",
        "cores =[]\n",
        "valor = nubank['porcentagem'].values.mean()\n",
        "print(valor)"
      ],
      "execution_count": 9,
      "outputs": [
        {
          "output_type": "stream",
          "text": [
            "8.333333333333334\n"
          ],
          "name": "stdout"
        }
      ]
    },
    {
      "cell_type": "code",
      "metadata": {
        "id": "NtQDYnfSpGah"
      },
      "source": [
        "for x in nubank['porcentagem']:\n",
        "  if x > valor:\n",
        "    cores.append('red')\n",
        "  else:\n",
        "    cores.append('lightblue')"
      ],
      "execution_count": 10,
      "outputs": []
    },
    {
      "cell_type": "code",
      "metadata": {
        "colab": {
          "base_uri": "https://localhost:8080/",
          "height": 542
        },
        "id": "jUnRKb2vn1wK",
        "outputId": "f7c4f951-b304-4be5-97ad-0d333b8f4e26"
      },
      "source": [
        "data = [go.Bar(x= nubank.index,\n",
        "               y=nubank['porcentagem'],\n",
        "               marker = {'color': cores,  #lista de cores\n",
        "                         'line': {'color': '#333',\n",
        "                                  'width': 2}\n",
        "                        },\n",
        "               opacity= 0.7\n",
        "              )\n",
        "       ]\n",
        "\n",
        "# make layout:\n",
        "configuracoes_layout = go.Layout(title='Gastos entre 08/2016-02/2020',\n",
        "                                 yaxis={'title':'Porcentagem'},\n",
        "                                 xaxis={'title':'Categoria'})\n",
        "\n",
        "# Fig Object:\n",
        "fig = go.Figure(data=data, layout=configuracoes_layout)\n",
        "\n",
        "# Graphic plot:\n",
        "py.iplot(fig, filename='GastosNubank')\n"
      ],
      "execution_count": 11,
      "outputs": [
        {
          "output_type": "display_data",
          "data": {
            "text/html": [
              "<html>\n",
              "<head><meta charset=\"utf-8\" /></head>\n",
              "<body>\n",
              "    <div>\n",
              "            <script src=\"https://cdnjs.cloudflare.com/ajax/libs/mathjax/2.7.5/MathJax.js?config=TeX-AMS-MML_SVG\"></script><script type=\"text/javascript\">if (window.MathJax) {MathJax.Hub.Config({SVG: {font: \"STIX-Web\"}});}</script>\n",
              "                <script type=\"text/javascript\">window.PlotlyConfig = {MathJaxConfig: 'local'};</script>\n",
              "        <script src=\"https://cdn.plot.ly/plotly-latest.min.js\"></script>    \n",
              "            <div id=\"cb4ac70b-f0bb-4549-a804-bf306e5611d6\" class=\"plotly-graph-div\" style=\"height:525px; width:100%;\"></div>\n",
              "            <script type=\"text/javascript\">\n",
              "                \n",
              "                    window.PLOTLYENV=window.PLOTLYENV || {};\n",
              "                    \n",
              "                if (document.getElementById(\"cb4ac70b-f0bb-4549-a804-bf306e5611d6\")) {\n",
              "                    Plotly.newPlot(\n",
              "                        'cb4ac70b-f0bb-4549-a804-bf306e5611d6',\n",
              "                        [{\"marker\": {\"color\": [\"lightblue\", \"lightblue\", \"lightblue\", \"lightblue\", \"lightblue\", \"red\", \"lightblue\", \"lightblue\", \"red\", \"red\", \"red\", \"lightblue\"], \"line\": {\"color\": \"#333\", \"width\": 2}}, \"opacity\": 0.7, \"type\": \"bar\", \"x\": [\"casa\", \"educa\\u00e7\\u00e3o\", \"eletr\\u00f4nicos\", \"lazer\", \"outros\", \"restaurante\", \"sa\\u00fade\", \"servi\\u00e7os\", \"supermercado\", \"transporte\", \"vestu\\u00e1rio\", \"viagem\"], \"y\": [0.22362855408424595, 3.7262849544201537, 2.7111948945564017, 6.250381000658972, 4.77922590864746, 27.9328011029375, 2.8542773017249394, 6.463787727177799, 10.806604181399658, 22.680010207920326, 10.039318109068514, 1.532486057404022]}],\n",
              "                        {\"template\": {\"data\": {\"bar\": [{\"error_x\": {\"color\": \"#2a3f5f\"}, \"error_y\": {\"color\": \"#2a3f5f\"}, \"marker\": {\"line\": {\"color\": \"#E5ECF6\", \"width\": 0.5}}, \"type\": \"bar\"}], \"barpolar\": [{\"marker\": {\"line\": {\"color\": \"#E5ECF6\", \"width\": 0.5}}, \"type\": \"barpolar\"}], \"carpet\": [{\"aaxis\": {\"endlinecolor\": \"#2a3f5f\", \"gridcolor\": \"white\", \"linecolor\": \"white\", \"minorgridcolor\": \"white\", \"startlinecolor\": \"#2a3f5f\"}, \"baxis\": {\"endlinecolor\": \"#2a3f5f\", \"gridcolor\": \"white\", \"linecolor\": \"white\", \"minorgridcolor\": \"white\", \"startlinecolor\": \"#2a3f5f\"}, \"type\": \"carpet\"}], \"choropleth\": [{\"colorbar\": {\"outlinewidth\": 0, \"ticks\": \"\"}, \"type\": \"choropleth\"}], \"contour\": [{\"colorbar\": {\"outlinewidth\": 0, \"ticks\": \"\"}, \"colorscale\": [[0.0, \"#0d0887\"], [0.1111111111111111, \"#46039f\"], [0.2222222222222222, \"#7201a8\"], [0.3333333333333333, \"#9c179e\"], [0.4444444444444444, \"#bd3786\"], [0.5555555555555556, \"#d8576b\"], [0.6666666666666666, \"#ed7953\"], [0.7777777777777778, \"#fb9f3a\"], [0.8888888888888888, \"#fdca26\"], [1.0, \"#f0f921\"]], \"type\": \"contour\"}], \"contourcarpet\": [{\"colorbar\": {\"outlinewidth\": 0, \"ticks\": \"\"}, \"type\": \"contourcarpet\"}], \"heatmap\": [{\"colorbar\": {\"outlinewidth\": 0, \"ticks\": \"\"}, \"colorscale\": [[0.0, \"#0d0887\"], [0.1111111111111111, \"#46039f\"], [0.2222222222222222, \"#7201a8\"], [0.3333333333333333, \"#9c179e\"], [0.4444444444444444, \"#bd3786\"], [0.5555555555555556, \"#d8576b\"], [0.6666666666666666, \"#ed7953\"], [0.7777777777777778, \"#fb9f3a\"], [0.8888888888888888, \"#fdca26\"], [1.0, \"#f0f921\"]], \"type\": \"heatmap\"}], \"heatmapgl\": [{\"colorbar\": {\"outlinewidth\": 0, \"ticks\": \"\"}, \"colorscale\": [[0.0, \"#0d0887\"], [0.1111111111111111, \"#46039f\"], [0.2222222222222222, \"#7201a8\"], [0.3333333333333333, \"#9c179e\"], [0.4444444444444444, \"#bd3786\"], [0.5555555555555556, \"#d8576b\"], [0.6666666666666666, \"#ed7953\"], [0.7777777777777778, \"#fb9f3a\"], [0.8888888888888888, \"#fdca26\"], [1.0, \"#f0f921\"]], \"type\": \"heatmapgl\"}], \"histogram\": [{\"marker\": {\"colorbar\": {\"outlinewidth\": 0, \"ticks\": \"\"}}, \"type\": \"histogram\"}], \"histogram2d\": [{\"colorbar\": {\"outlinewidth\": 0, \"ticks\": \"\"}, \"colorscale\": [[0.0, \"#0d0887\"], [0.1111111111111111, \"#46039f\"], [0.2222222222222222, \"#7201a8\"], [0.3333333333333333, \"#9c179e\"], [0.4444444444444444, \"#bd3786\"], [0.5555555555555556, \"#d8576b\"], [0.6666666666666666, \"#ed7953\"], [0.7777777777777778, \"#fb9f3a\"], [0.8888888888888888, \"#fdca26\"], [1.0, \"#f0f921\"]], \"type\": \"histogram2d\"}], \"histogram2dcontour\": [{\"colorbar\": {\"outlinewidth\": 0, \"ticks\": \"\"}, \"colorscale\": [[0.0, \"#0d0887\"], [0.1111111111111111, \"#46039f\"], [0.2222222222222222, \"#7201a8\"], [0.3333333333333333, \"#9c179e\"], [0.4444444444444444, \"#bd3786\"], [0.5555555555555556, \"#d8576b\"], [0.6666666666666666, \"#ed7953\"], [0.7777777777777778, \"#fb9f3a\"], [0.8888888888888888, \"#fdca26\"], [1.0, \"#f0f921\"]], \"type\": \"histogram2dcontour\"}], \"mesh3d\": [{\"colorbar\": {\"outlinewidth\": 0, \"ticks\": \"\"}, \"type\": \"mesh3d\"}], \"parcoords\": [{\"line\": {\"colorbar\": {\"outlinewidth\": 0, \"ticks\": \"\"}}, \"type\": \"parcoords\"}], \"pie\": [{\"automargin\": true, \"type\": \"pie\"}], \"scatter\": [{\"marker\": {\"colorbar\": {\"outlinewidth\": 0, \"ticks\": \"\"}}, \"type\": \"scatter\"}], \"scatter3d\": [{\"line\": {\"colorbar\": {\"outlinewidth\": 0, \"ticks\": \"\"}}, \"marker\": {\"colorbar\": {\"outlinewidth\": 0, \"ticks\": \"\"}}, \"type\": \"scatter3d\"}], \"scattercarpet\": [{\"marker\": {\"colorbar\": {\"outlinewidth\": 0, \"ticks\": \"\"}}, \"type\": \"scattercarpet\"}], \"scattergeo\": [{\"marker\": {\"colorbar\": {\"outlinewidth\": 0, \"ticks\": \"\"}}, \"type\": \"scattergeo\"}], \"scattergl\": [{\"marker\": {\"colorbar\": {\"outlinewidth\": 0, \"ticks\": \"\"}}, \"type\": \"scattergl\"}], \"scattermapbox\": [{\"marker\": {\"colorbar\": {\"outlinewidth\": 0, \"ticks\": \"\"}}, \"type\": \"scattermapbox\"}], \"scatterpolar\": [{\"marker\": {\"colorbar\": {\"outlinewidth\": 0, \"ticks\": \"\"}}, \"type\": \"scatterpolar\"}], \"scatterpolargl\": [{\"marker\": {\"colorbar\": {\"outlinewidth\": 0, \"ticks\": \"\"}}, \"type\": \"scatterpolargl\"}], \"scatterternary\": [{\"marker\": {\"colorbar\": {\"outlinewidth\": 0, \"ticks\": \"\"}}, \"type\": \"scatterternary\"}], \"surface\": [{\"colorbar\": {\"outlinewidth\": 0, \"ticks\": \"\"}, \"colorscale\": [[0.0, \"#0d0887\"], [0.1111111111111111, \"#46039f\"], [0.2222222222222222, \"#7201a8\"], [0.3333333333333333, \"#9c179e\"], [0.4444444444444444, \"#bd3786\"], [0.5555555555555556, \"#d8576b\"], [0.6666666666666666, \"#ed7953\"], [0.7777777777777778, \"#fb9f3a\"], [0.8888888888888888, \"#fdca26\"], [1.0, \"#f0f921\"]], \"type\": \"surface\"}], \"table\": [{\"cells\": {\"fill\": {\"color\": \"#EBF0F8\"}, \"line\": {\"color\": \"white\"}}, \"header\": {\"fill\": {\"color\": \"#C8D4E3\"}, \"line\": {\"color\": \"white\"}}, \"type\": \"table\"}]}, \"layout\": {\"annotationdefaults\": {\"arrowcolor\": \"#2a3f5f\", \"arrowhead\": 0, \"arrowwidth\": 1}, \"coloraxis\": {\"colorbar\": {\"outlinewidth\": 0, \"ticks\": \"\"}}, \"colorscale\": {\"diverging\": [[0, \"#8e0152\"], [0.1, \"#c51b7d\"], [0.2, \"#de77ae\"], [0.3, \"#f1b6da\"], [0.4, \"#fde0ef\"], [0.5, \"#f7f7f7\"], [0.6, \"#e6f5d0\"], [0.7, \"#b8e186\"], [0.8, \"#7fbc41\"], [0.9, \"#4d9221\"], [1, \"#276419\"]], \"sequential\": [[0.0, \"#0d0887\"], [0.1111111111111111, \"#46039f\"], [0.2222222222222222, \"#7201a8\"], [0.3333333333333333, \"#9c179e\"], [0.4444444444444444, \"#bd3786\"], [0.5555555555555556, \"#d8576b\"], [0.6666666666666666, \"#ed7953\"], [0.7777777777777778, \"#fb9f3a\"], [0.8888888888888888, \"#fdca26\"], [1.0, \"#f0f921\"]], \"sequentialminus\": [[0.0, \"#0d0887\"], [0.1111111111111111, \"#46039f\"], [0.2222222222222222, \"#7201a8\"], [0.3333333333333333, \"#9c179e\"], [0.4444444444444444, \"#bd3786\"], [0.5555555555555556, \"#d8576b\"], [0.6666666666666666, \"#ed7953\"], [0.7777777777777778, \"#fb9f3a\"], [0.8888888888888888, \"#fdca26\"], [1.0, \"#f0f921\"]]}, \"colorway\": [\"#636efa\", \"#EF553B\", \"#00cc96\", \"#ab63fa\", \"#FFA15A\", \"#19d3f3\", \"#FF6692\", \"#B6E880\", \"#FF97FF\", \"#FECB52\"], \"font\": {\"color\": \"#2a3f5f\"}, \"geo\": {\"bgcolor\": \"white\", \"lakecolor\": \"white\", \"landcolor\": \"#E5ECF6\", \"showlakes\": true, \"showland\": true, \"subunitcolor\": \"white\"}, \"hoverlabel\": {\"align\": \"left\"}, \"hovermode\": \"closest\", \"mapbox\": {\"style\": \"light\"}, \"paper_bgcolor\": \"white\", \"plot_bgcolor\": \"#E5ECF6\", \"polar\": {\"angularaxis\": {\"gridcolor\": \"white\", \"linecolor\": \"white\", \"ticks\": \"\"}, \"bgcolor\": \"#E5ECF6\", \"radialaxis\": {\"gridcolor\": \"white\", \"linecolor\": \"white\", \"ticks\": \"\"}}, \"scene\": {\"xaxis\": {\"backgroundcolor\": \"#E5ECF6\", \"gridcolor\": \"white\", \"gridwidth\": 2, \"linecolor\": \"white\", \"showbackground\": true, \"ticks\": \"\", \"zerolinecolor\": \"white\"}, \"yaxis\": {\"backgroundcolor\": \"#E5ECF6\", \"gridcolor\": \"white\", \"gridwidth\": 2, \"linecolor\": \"white\", \"showbackground\": true, \"ticks\": \"\", \"zerolinecolor\": \"white\"}, \"zaxis\": {\"backgroundcolor\": \"#E5ECF6\", \"gridcolor\": \"white\", \"gridwidth\": 2, \"linecolor\": \"white\", \"showbackground\": true, \"ticks\": \"\", \"zerolinecolor\": \"white\"}}, \"shapedefaults\": {\"line\": {\"color\": \"#2a3f5f\"}}, \"ternary\": {\"aaxis\": {\"gridcolor\": \"white\", \"linecolor\": \"white\", \"ticks\": \"\"}, \"baxis\": {\"gridcolor\": \"white\", \"linecolor\": \"white\", \"ticks\": \"\"}, \"bgcolor\": \"#E5ECF6\", \"caxis\": {\"gridcolor\": \"white\", \"linecolor\": \"white\", \"ticks\": \"\"}}, \"title\": {\"x\": 0.05}, \"xaxis\": {\"automargin\": true, \"gridcolor\": \"white\", \"linecolor\": \"white\", \"ticks\": \"\", \"title\": {\"standoff\": 15}, \"zerolinecolor\": \"white\", \"zerolinewidth\": 2}, \"yaxis\": {\"automargin\": true, \"gridcolor\": \"white\", \"linecolor\": \"white\", \"ticks\": \"\", \"title\": {\"standoff\": 15}, \"zerolinecolor\": \"white\", \"zerolinewidth\": 2}}}, \"title\": {\"text\": \"Gastos entre 08/2016-02/2020\"}, \"xaxis\": {\"title\": {\"text\": \"Categoria\"}}, \"yaxis\": {\"title\": {\"text\": \"Porcentagem\"}}},\n",
              "                        {\"responsive\": true}\n",
              "                    ).then(function(){\n",
              "                            \n",
              "var gd = document.getElementById('cb4ac70b-f0bb-4549-a804-bf306e5611d6');\n",
              "var x = new MutationObserver(function (mutations, observer) {{\n",
              "        var display = window.getComputedStyle(gd).display;\n",
              "        if (!display || display === 'none') {{\n",
              "            console.log([gd, 'removed!']);\n",
              "            Plotly.purge(gd);\n",
              "            observer.disconnect();\n",
              "        }}\n",
              "}});\n",
              "\n",
              "// Listen for the removal of the full notebook cells\n",
              "var notebookContainer = gd.closest('#notebook-container');\n",
              "if (notebookContainer) {{\n",
              "    x.observe(notebookContainer, {childList: true});\n",
              "}}\n",
              "\n",
              "// Listen for the clearing of the current output cell\n",
              "var outputEl = gd.closest('.output');\n",
              "if (outputEl) {{\n",
              "    x.observe(outputEl, {childList: true});\n",
              "}}\n",
              "\n",
              "                        })\n",
              "                };\n",
              "                \n",
              "            </script>\n",
              "        </div>\n",
              "</body>\n",
              "</html>"
            ]
          },
          "metadata": {
            "tags": []
          }
        }
      ]
    },
    {
      "cell_type": "code",
      "metadata": {
        "id": "COR6O9DnHQJc"
      },
      "source": [
        ""
      ],
      "execution_count": 11,
      "outputs": []
    }
  ]
}